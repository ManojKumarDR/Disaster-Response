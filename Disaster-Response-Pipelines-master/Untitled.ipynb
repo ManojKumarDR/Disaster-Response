{
 "cells": [
  {
   "cell_type": "code",
   "execution_count": 1,
   "metadata": {},
   "outputs": [
    {
     "name": "stdout",
     "output_type": "stream",
     "text": [
      "Collecting click==8.0.3 (from -r requirements.txt (line 1))\n",
      "  Downloading https://files.pythonhosted.org/packages/48/58/c8aa6a8e62cc75f39fee1092c45d6b6ba684122697d7ce7d53f64f98a129/click-8.0.3-py3-none-any.whl (97kB)\n",
      "Collecting colorama==0.4.4 (from -r requirements.txt (line 2))\n",
      "  Using cached https://files.pythonhosted.org/packages/44/98/5b86278fbbf250d239ae0ecb724f8572af1c91f4a11edf4d36a206189440/colorama-0.4.4-py2.py3-none-any.whl\n",
      "Collecting Flask==2.0.2 (from -r requirements.txt (line 3))\n",
      "  Downloading https://files.pythonhosted.org/packages/8f/b6/b4fdcb6d01ee20f9cfe81dcf9d3cd6c2f874b996f186f1c0b898c4a59c04/Flask-2.0.2-py3-none-any.whl (95kB)\n",
      "Collecting greenlet==1.1.2 (from -r requirements.txt (line 4))\n",
      "  Downloading https://files.pythonhosted.org/packages/f5/34/adc2134c9567dd99254f20e6981a9006a5767dfed287eb94f273ec51e092/greenlet-1.1.2-cp37-cp37m-win_amd64.whl (101kB)\n",
      "Collecting itsdangerous==2.0.1 (from -r requirements.txt (line 5))\n",
      "  Downloading https://files.pythonhosted.org/packages/9c/96/26f935afba9cd6140216da5add223a0c465b99d0f112b68a4ca426441019/itsdangerous-2.0.1-py3-none-any.whl\n",
      "Collecting Jinja2==3.0.2 (from -r requirements.txt (line 6))\n",
      "  Downloading https://files.pythonhosted.org/packages/94/42/d8bca8e99789bcc35dfa9b03acaa8b518720d6e060163745bc2bf2ead842/Jinja2-3.0.2-py3-none-any.whl (133kB)\n",
      "Collecting joblib==1.1.0 (from -r requirements.txt (line 7))\n",
      "  Downloading https://files.pythonhosted.org/packages/3e/d5/0163eb0cfa0b673aa4fe1cd3ea9d8a81ea0f32e50807b0c295871e4aab2e/joblib-1.1.0-py2.py3-none-any.whl (306kB)\n",
      "Collecting MarkupSafe==2.0.1 (from -r requirements.txt (line 8))\n",
      "  Downloading https://files.pythonhosted.org/packages/1b/f6/f774e745edd76eef70bf83062823be0dca95ee9c9211f18aec490892ab33/MarkupSafe-2.0.1-cp37-cp37m-win_amd64.whl\n",
      "Collecting nltk==3.6.5 (from -r requirements.txt (line 9))\n",
      "  Downloading https://files.pythonhosted.org/packages/aa/b8/09ac15436591cefc0adc882798d5cf629f13addae0495b20b682219e3afe/nltk-3.6.5-py3-none-any.whl (1.5MB)\n",
      "Collecting numpy==1.21.3 (from -r requirements.txt (line 10))\n",
      "  Downloading https://files.pythonhosted.org/packages/f1/ef/df6ce4d461fa592ae88bd271c3c944f428a2029840ae63ef3e3cd5ef4fde/numpy-1.21.3-cp37-cp37m-win_amd64.whl (14.0MB)\n",
      "Collecting pandas==1.3.4 (from -r requirements.txt (line 11))\n",
      "  Downloading https://files.pythonhosted.org/packages/b8/42/977a30bfb4ce937b188e148fcfbae913a9aa6d22ea3d32fef603444eb588/pandas-1.3.4-cp37-cp37m-win_amd64.whl (10.0MB)\n",
      "Collecting plotly==5.3.1 (from -r requirements.txt (line 12))\n",
      "  Downloading https://files.pythonhosted.org/packages/68/b2/7c7d111affebb281b1085680db7358f6204920bb5574e9e84db05c530688/plotly-5.3.1-py2.py3-none-any.whl (23.9MB)\n",
      "Collecting python-dateutil==2.8.2 (from -r requirements.txt (line 13))\n",
      "  Using cached https://files.pythonhosted.org/packages/36/7a/87837f39d0296e723bb9b62bbb257d0355c7f6128853c78955f57342a56d/python_dateutil-2.8.2-py2.py3-none-any.whl\n",
      "Collecting pytz==2021.3 (from -r requirements.txt (line 14))\n",
      "  Downloading https://files.pythonhosted.org/packages/d3/e3/d9f046b5d1c94a3aeab15f1f867aa414f8ee9d196fae6865f1d6a0ee1a0b/pytz-2021.3-py2.py3-none-any.whl (503kB)\n",
      "Collecting regex==2021.10.23 (from -r requirements.txt (line 15))\n",
      "  Downloading https://files.pythonhosted.org/packages/7a/d2/7b97b946f52be45ef4ac8a32ed57e48d02f3bb492590737588bd520afaa8/regex-2021.10.23-cp37-cp37m-win_amd64.whl (273kB)\n",
      "Collecting scikit-learn==0.24.2 (from -r requirements.txt (line 16))\n",
      "  Downloading https://files.pythonhosted.org/packages/33/ac/98a9c3f4b6e810c45196f6e15e04f9d83fe3d6000eebbb74dfd084446432/scikit_learn-0.24.2-cp37-cp37m-win_amd64.whl (6.8MB)\n",
      "Collecting scipy==1.7.1 (from -r requirements.txt (line 17))\n",
      "  Downloading https://files.pythonhosted.org/packages/0c/d2/17323a97b33951ee8d74f0f416e5b446dc5f57cb2de659ee09e72e7f4b55/scipy-1.7.1-cp37-cp37m-win_amd64.whl (33.6MB)\n",
      "Collecting six==1.16.0 (from -r requirements.txt (line 18))\n",
      "  Using cached https://files.pythonhosted.org/packages/d9/5a/e7c31adbe875f2abbb91bd84cf2dc52d792b5a01506781dbcf25c91daf11/six-1.16.0-py2.py3-none-any.whl\n",
      "Collecting SQLAlchemy==1.4.26 (from -r requirements.txt (line 19))\n",
      "  Downloading https://files.pythonhosted.org/packages/7c/dc/ef6733fa0eb12ca1a9cf235d2a05095196dd66e471cebed62db459750714/SQLAlchemy-1.4.26-cp37-cp37m-win_amd64.whl (1.5MB)\n",
      "Collecting tenacity==8.0.1 (from -r requirements.txt (line 20))\n",
      "  Downloading https://files.pythonhosted.org/packages/f2/a5/f86bc8d67c979020438c8559cc70cfe3a1643fd160d35e09c9cca6a09189/tenacity-8.0.1-py3-none-any.whl\n",
      "Collecting threadpoolctl==3.0.0 (from -r requirements.txt (line 21))\n",
      "  Downloading https://files.pythonhosted.org/packages/ff/fe/8aaca2a0db7fd80f0b2cf8a16a034d3eea8102d58ff9331d2aaf1f06766a/threadpoolctl-3.0.0-py3-none-any.whl\n",
      "Collecting tqdm==4.62.3 (from -r requirements.txt (line 22))\n",
      "  Downloading https://files.pythonhosted.org/packages/63/f3/b7a1b8e40fd1bd049a34566eb353527bb9b8e9b98f8b6cf803bb64d8ce95/tqdm-4.62.3-py2.py3-none-any.whl (76kB)\n",
      "Collecting Werkzeug==2.0.2 (from -r requirements.txt (line 23))\n",
      "  Downloading https://files.pythonhosted.org/packages/1e/73/51137805d1b8d97367a8a77cae4a792af14bb7ce58fbd071af294c740cf0/Werkzeug-2.0.2-py3-none-any.whl (288kB)\n",
      "Requirement already satisfied: importlib-metadata; python_version < \"3.8\" in c:\\users\\win\\anaconda3\\lib\\site-packages (from click==8.0.3->-r requirements.txt (line 1)) (0.23)\n",
      "Requirement already satisfied: zipp>=0.5 in c:\\users\\win\\anaconda3\\lib\\site-packages (from importlib-metadata; python_version < \"3.8\"->click==8.0.3->-r requirements.txt (line 1)) (0.6.0)\n",
      "Requirement already satisfied: more-itertools in c:\\users\\win\\anaconda3\\lib\\site-packages (from zipp>=0.5->importlib-metadata; python_version < \"3.8\"->click==8.0.3->-r requirements.txt (line 1)) (7.2.0)\n",
      "Installing collected packages: colorama, click, itsdangerous, Werkzeug, MarkupSafe, Jinja2, Flask, greenlet, joblib, regex, tqdm, nltk, numpy, pytz, six, python-dateutil, pandas, tenacity, plotly, scipy, threadpoolctl, scikit-learn, SQLAlchemy\n",
      "  Found existing installation: colorama 0.4.1\n",
      "    Uninstalling colorama-0.4.1:\n",
      "      Successfully uninstalled colorama-0.4.1\n",
      "  Found existing installation: Click 7.0\n",
      "    Uninstalling Click-7.0:\n",
      "      Successfully uninstalled Click-7.0\n",
      "  Found existing installation: itsdangerous 1.1.0\n",
      "    Uninstalling itsdangerous-1.1.0:\n",
      "      Successfully uninstalled itsdangerous-1.1.0\n",
      "  Found existing installation: Werkzeug 0.16.0\n",
      "    Uninstalling Werkzeug-0.16.0:\n",
      "      Successfully uninstalled Werkzeug-0.16.0\n",
      "  Found existing installation: MarkupSafe 1.1.1\n",
      "    Uninstalling MarkupSafe-1.1.1:\n",
      "      Successfully uninstalled MarkupSafe-1.1.1\n",
      "Note: you may need to restart the kernel to use updated packages.\n"
     ]
    },
    {
     "name": "stderr",
     "output_type": "stream",
     "text": [
      "ERROR: astroid 2.3.1 requires typed-ast<1.5,>=1.4.0; implementation_name == \"cpython\" and python_version < \"3.8\", which is not installed.\n",
      "ERROR: astroid 2.3.1 has requirement six==1.12, but you'll have six 1.16.0 which is incompatible.\n",
      "ERROR: Could not install packages due to an EnvironmentError: [WinError 5] Access is denied: 'c:\\\\users\\\\win\\\\anaconda3\\\\lib\\\\site-packages\\\\~arkupsafe\\\\_speedups.cp37-win_amd64.pyd'\n",
      "Consider using the `--user` option or check the permissions.\n",
      "\n"
     ]
    }
   ],
   "source": [
    "pip install -r requirements.txt"
   ]
  },
  {
   "cell_type": "code",
   "execution_count": null,
   "metadata": {},
   "outputs": [],
   "source": []
  }
 ],
 "metadata": {
  "kernelspec": {
   "display_name": "Python 3",
   "language": "python",
   "name": "python3"
  },
  "language_info": {
   "codemirror_mode": {
    "name": "ipython",
    "version": 3
   },
   "file_extension": ".py",
   "mimetype": "text/x-python",
   "name": "python",
   "nbconvert_exporter": "python",
   "pygments_lexer": "ipython3",
   "version": "3.7.4"
  }
 },
 "nbformat": 4,
 "nbformat_minor": 2
}
